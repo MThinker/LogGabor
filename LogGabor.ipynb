{
 "cells": [
  {
   "cell_type": "markdown",
   "metadata": {},
   "source": [
    "# LogGabor user guide"
   ]
  },
  {
   "cell_type": "markdown",
   "metadata": {},
   "source": [
    "\n",
    "Table of content\n",
    "----------------\n",
    "\n",
    "* [What is the LogGabor package?](LogGabor.ipynb#What-is-the-LogGabor-package?) \n",
    "\n",
    "* [Installing](LogGabor.ipynb#Install) \n",
    "\n",
    "* [Importing the library](LogGabor.ipynb#Importing-the-library)\n",
    "\n",
    "* [Properties of log-Gabor filters](LogGabor.ipynb#Properties-of-log-Gabor-filters)\n",
    "\n",
    "* [Testing filter generation](LogGabor_testing-filter-generation.ipynb) \n",
    "\n",
    "* [Testing on a sample image](LogGabor.ipynb#Testing-on-a-sample-image) \n",
    "\n",
    "* [Building a pyramid](LogGabor-making-a-pyramid.ipynb) \n",
    "\n",
    "* [An example of fitting images with log-Gabor filters](LogGabor_fit_example.ipynb) "
   ]
  },
  {
   "cell_type": "markdown",
   "metadata": {},
   "source": [
    "## What is the LogGabor package?"
   ]
  },
  {
   "cell_type": "markdown",
   "metadata": {},
   "source": [
    "> Meanwhile biorthogonal wavelets got a very popular image processing tool, alternative multiresolution transforms have been proposed for solving some of their drawbacks, namely the poor selectivity in orientation and the lack of translation invariance due to the aliasing between subbands. These transforms are generally overcomplete and consequently offer huge degrees of freedom in their design. At the same time their optimization get a challenging task. We proposed here a log-Gabor wavelet transform gathering the excellent mathematical properties of the Gabor functions with a carefully construction to maintain the properties of the filters and to permit exact reconstruction. Two major improvements are proposed: first the highest frequency bands are covered by narrowly localized oriented filters. And second, all the frequency bands including the highest and lowest frequencies are uniformly covered so as exact reconstruction is achieved using the same filters in both the direct and the inverse transforms (which means that the transform is self-invertible). The transform is optimized not only mathematically but it also follows as much as possible the knowledge on the receptive field of the simple cells of the Primary Visual Cortex (V1) of primates and on the statistics of natural images. Compared to the state of the art, the log-Gabor wavelets show excellent behavior in their ability to segregate the image information (e.g. the contrast edges) from incoherent Gaussian noise by hard thresholding and to code the image features through a reduced set of coefficients with large magnitude. Such characteristics make the transform a promising tool for general image processing tasks.\n",
    "\n",
    "\n",
    "Code: https://github.com/bicv/LogGabor\n",
    "\n",
    "Reference (BibTex Format):\n",
    "\n",
    "~~~~{.bibtex}\n",
    "    @article{Fischer07cv,\n",
    "        Author = {Fischer, Sylvain and Sroubek, Filip and Perrinet, Laurent U. and Redondo, Rafael and Crist{\\'o}bal, Gabriel},\n",
    "        Journal = {Int. Journal of Computional Vision},\n",
    "        Keywords = {wavelet transforms, log-Gabor filters, oriented high-pass filters, image denoising, visual system},\n",
    "        Title = {Self-invertible 2{D} log-{G}abor wavelets},\n",
    "        Url = {http://invibe.net/LaurentPerrinet/Publications/Fischer07cv},\n",
    "        Year = {2007}}\n",
    "~~~~"
   ]
  },
  {
   "cell_type": "markdown",
   "metadata": {},
   "source": [
    "<img src=\"http://invibe.net/cgi-bin/index.cgi/Figures/Fischer07cv/FigureUn?action=AttachFile&do=get&target=loggabor.png\" alt=\"The log-Gabor transform compared to other multiresolution sche\" width=100% >\n",
    "**The log-Gabor transform compared to other multiresolution schemes.** *a.* Schematic contours of the log-Gabor filters implented in [Fischer (2007)](http://invibe.net/LaurentPerrinet/Publications/Fischer07cv) in the Fourier domain with 5 scales and 8 orientations (only the contours at 78% of the filter maximum are drawn). *b.* The real part of the corresponding filters is drawn in the spatial domain. The two first scales are drawn at the bottom magnified by a factor of 4 for a better visualization. The different scales are arranged in lines and the orientations in columns. The low-pass filter is drawn in the upper-left part. *c.* The corresponding imaginary parts of the filters are shown in the same arrangement. Note that the low-pass filter does not have imaginary part. Insets (b) and (c) show the final filters built through all the processes described in Section II. *d.* In the proposed scheme the elongation of log-Gabor wavelets increases with the number of orientations nt . Here the real parts (left column) and imaginary parts (right column) are drawn for the 3, 4, 6, 8, 10, 12 and 16 orientation schemes. *e.* As a comparison orthogonal wavelet filters ’Db4’ are shown. Horizontal, vertical and diagonal wavelets are arranged on columns (low-pass on top). *f.* As a second comparison, steerable pyramid filters [30] are shown. The arrangement over scales and orientations is the same as for the log-Gabor scheme."
   ]
  },
  {
   "cell_type": "markdown",
   "metadata": {},
   "source": [
    "<img src=\"http://invibe.net/cgi-bin/index.cgi/Figures/Perrinet08spie/FigureDeux?action=AttachFile&do=get&target=GoldenPyramid.png\" alt=\"The log-Gabor transform compared to other multiresolution sche\" width=100% >\n",
    "**The Golden Laplacian Pyramid with log-Gabor filters.** To represent the edges of the image at different levels and orientations, we use a multi-scale approach constructing a set of filters of different scales and according to oriented log-Gabor filters. This is represented here by stacking images on a Golden Rectangle [Perrinet (2008)](http://invibe.net/LaurentPerrinet/Publications/Perrinet2008spie), that is where the aspect ratio is the golden section $\\phi = \\frac{1+\\sqrt{5}}{2}$. The level represents coefficients' amplitude, hue corresponds to orientation. We present here the base image on the left and the successive levels of the pyramid in a clockwise fashion (for clarity, we stopped at level $8$). Note that here we also use $\\phi^2$ (that is $\\phi+1$) as the down-scaling factor so that the pixelwise resolution of the pyramid images correspond across scales."
   ]
  },
  {
   "cell_type": "markdown",
   "metadata": {},
   "source": [
    "[Back to the LogGabor user guide](LogGabor.ipynb#LogGabor-user-guide)"
   ]
  },
  {
   "cell_type": "markdown",
   "metadata": {},
   "source": [
    "## Install\n",
    "\n",
    "To install them, use pip:\n",
    "\n",
    "    pip3 install LogGabor\n",
    "\n",
    "This will install the necessary requirements :\n",
    "\n",
    "* numpy\n",
    "* NeuroTools\n",
    "* SLIP\n",
    "* matplotlib\n",
    "\n",
    "More info and the whole source code may be found @ https://github.com/bicv/LogGabor.\n",
    "\n",
    "### Installing notebook dependencies\n",
    "\n",
    "To run this notebook, you obviously need jupyter (aka ipython), but also https://github.com/ioam/holoviews for the nice visualization. In short, you need to\n",
    "\n",
    "\n",
    "```\n",
    "pip3 install -r requirements.txt\n",
    "```"
   ]
  },
  {
   "cell_type": "markdown",
   "metadata": {},
   "source": [
    "[Back to top](#LogGabor-user-guide)"
   ]
  },
  {
   "cell_type": "markdown",
   "metadata": {},
   "source": [
    "## Importing the library"
   ]
  },
  {
   "cell_type": "code",
   "execution_count": null,
   "metadata": {},
   "outputs": [],
   "source": [
    "%load_ext autoreload\n",
    "%autoreload 2\n",
    "from LogGabor import LogGabor\n",
    "parameterfile = 'https://raw.githubusercontent.com/bicv/LogGabor/master/default_param.py'\n",
    "lg = LogGabor(parameterfile)"
   ]
  },
  {
   "cell_type": "code",
   "execution_count": null,
   "metadata": {},
   "outputs": [],
   "source": [
    "help(LogGabor)"
   ]
  },
  {
   "cell_type": "markdown",
   "metadata": {},
   "source": [
    "To install the dependencies related to running this notebook, see [Installing notebook dependencies](#Installing-notebook-dependencies)."
   ]
  },
  {
   "cell_type": "markdown",
   "metadata": {},
   "source": [
    "[Back to top](#LogGabor-user-guide)"
   ]
  },
  {
   "cell_type": "markdown",
   "metadata": {},
   "source": [
    "## Properties of log-Gabor filters"
   ]
  },
  {
   "cell_type": "markdown",
   "metadata": {},
   "source": [
    "### Gabor filters"
   ]
  },
  {
   "cell_type": "markdown",
   "metadata": {},
   "source": [
    "An important task in image processing and related areas (such as understanding principles of vision)  involves defining a dictionary of templates (or\n",
    "filters) for detecting edges. This representation should give a generic model of edges parameterized by their shape, orientation, and scale. Moreover the range of these parameters should match with what has been reported for simple-cell responses in macaque primary visual cortex (V1). As such,  standard Gabors are classically used as they are well fitted to V1 simple cells (Daugman, 1980).\n",
    "\n",
    "Firstly proposed by Dennis Gabor in 1946, the canonical coherent states of the Gabor filters are different versions of a Gaussian-shaped window shifted in time/space and frequency variables. Subsequently Morlet brought them into the wavelet multi-resolution framework and they are called Gabor wavelets as well. Belonging to the large Cohen's class, Gabor's work synthesizes the studies of Nyquist in Communication Theory in 1924 and Heisenberg in Quantum Mechanics in 1927, by which he proposed the Gaussian shape as an optimal envelope for time-frequency representation because it turns the uncertainly principle from inequality into equality.\n",
    "\n",
    "Some important characteristics of Gabor wavelets are: \n",
    "\n",
    "1. the Gabor transform is obtained through a linear convolution, \n",
    "1. it may enable complete image recovery, \n",
    "1. the transform domain contains fully the energy of the signal (Parseval's theorem), 1. it is not orthogonal but an unconditional basis, a frame, \n",
    "1. the Fourier plane is symmetric and \n",
    "1. it is invariant to shifting in time/space, frequency and scale. \n",
    "1. Gabor filters are completely symmetric of both sides (isotropy), monomodal and centered (localization) and smooth and infinitely derivable (regularity). \n",
    "1. In the case of bidimensional signals (images), the scaled versions even can be rotated. The result is the partition of the Fourier plane into bands modulated in frequency and orientation which discriminate spectral features in multiples directions. In contrast, (bi-)orthogonal wavelets often have well-known difficulties in implementing more than three orientations (horizontal, vertical and diagonal). \n",
    "1. In addition, the Gaussian envelop is modulated by a complex exponential with odd and even phases, which is effective for analyzing features with different phases as abrupt impulses or steps, i.e. ridges and edges in 2D respectively. The filter results of a symmetric and an antisymmetric filter can be combined in a single complex number whose squared amplitude is called the Gabor-energy. This activity relates to the response of so-called complex cells in the primary visual cortex (see H. Spitzer and S. Hochstein. A complex-cell receptive-field model. *Journal of Neuroscience, 53(5):1266–1286, 1985*).\n",
    "\n",
    "See https://en.wikipedia.org/wiki/Gabor_filter for more information.\n"
   ]
  },
  {
   "cell_type": "markdown",
   "metadata": {},
   "source": [
    "### log-Gabor filters"
   ]
  },
  {
   "cell_type": "markdown",
   "metadata": {},
   "source": [
    "\n",
    "Gabor filters are a traditional choice for obtaining localised frequency information. It is worth stressing here other important aspects in that peculiar shape. Despite its Gaussian shape spreads to infinite, it decays rapidly from its center. They offer the best simultaneous localization of spatial and frequency information. However they have two main limitations. The maximum bandwidth of a Gabor filter is limited to approximately one octave and Gabor filters are not optimal if one is seeking broad spectral information with maximal spatial localization.\n",
    "\n",
    "\n",
    "\n",
    "\n",
    "These limitations are well illustrated by focusing on the DC component. Indeed, one cannot construct Gabor functions of arbitrarily wide bandwidth and still maintain a reasonably small DC component in the even-symmetric filter. This difficulty can be seen if we look at the transfer function of an even-symmetric Gabor filter in the frequency domain. The transfer function is the sum of two Gaussians centred at plus and minus the centre frequency. If the standard deviation of these Gaussians becomes more than about one third of the centre frequency the tails of the two Gaussians will start to overlap excessively at the origin, resulting in a nonzero DC component.\n",
    "Transfer function of a high bandwidth even-symmetric Gabor filter. The two Gaussians that make up the function overlap at the origin, resulting in a significant DC component.\n",
    "\n",
    "An alternative to the Gabor function is the Log-Gabor function proposed by Field [1987]. Log-Gabor filters can be constructed with arbitrary bandwidth and the bandwidth can be optimised to produce a filter with minimal spatial extent. \n",
    "We use a log-Gabor representation, which is well suited to represent\n",
    "a wide range of natural images~\\citep{Fischer07}.\n",
    "Like Gabors, these filters are defined by Gaussians in Fourier space,\n",
    "but their specificity is that log-Gabors have Gaussians envelopes in log-polar frequency space.\n",
    "This is consistent with physiological measurements which indicate that V1 cell responses are symmetric on the log frequency scale.\n",
    "They have multiple advantages over Gaussians:\n",
    "In particular, they have no DC component,\n",
    "and more generally, their envelopes more broadly cover the frequency space~\\citep{Fischer07cv}.\n",
    "In this chapter, we set the bandwidth of the Fourier representation of the filters\n",
    "to $1$ and $\\pi/8$ respectively in the log-frequency and polar coordinates\n",
    "to get a family of relatively elongated (and thus selective) filters\n",
    "(see~\\citet{Fischer07cv} and sigure above for examples of such edges).\n",
    "Prior to the analysis of each image, we used the spectral whitening filter\n",
    "described by~\\citet{Olshausen97} to provide\n",
    "a good balance of the energy of output coefficients~\\citep{Perrinet03ieee,Fischer07}.\n",
    "Such a representation is implemented in this package.\n",
    "\n",
    "\n",
    "\n",
    "\n",
    "\n",
    "\n",
    " * see this excellent presentation of log-Gabor filters: http://www.csse.uwa.edu.au/~pk/research/matlabfns/PhaseCongruency/Docs/convexpl.html\n",
    " * see more articles using Log-Gabor filters: http://www.citeulike.org/tag/log-gabor"
   ]
  },
  {
   "cell_type": "markdown",
   "metadata": {},
   "source": [
    "\n",
    "What do log Gabor functions look like in the spatial domain? Unfortunately due to the singularity in the log function at the origin one cannot construct an analytic expression for the shape of the log Gabor function in the spatial domain. One is reduced to designing the filters in the frequency domain and then performing a numerical inverse Fourier Transform to see what they look like. Their appearance is similar to Gabor functions though their shape becomes much \"sharper\" as the bandwidth is increased. The shapes of log Gabor and Gabor functions are almost identical for bandwidths less than one octave. \t\n"
   ]
  },
  {
   "cell_type": "markdown",
   "metadata": {},
   "source": [
    "[Back to top](#LogGabor-user-guide)"
   ]
  },
  {
   "cell_type": "markdown",
   "metadata": {},
   "source": [
    "## testing coordinates in Fourier space"
   ]
  },
  {
   "cell_type": "code",
   "execution_count": null,
   "metadata": {},
   "outputs": [],
   "source": [
    "import holoviews as hv\n",
    "#hv.notebook_extension('bokeh')\n",
    "%load_ext holoviews.ipython\n",
    "%output size=150 dpi=120\n",
    "%load_ext autoreload\n",
    "%autoreload 2\n",
    "import os\n",
    "import numpy as np\n",
    "%matplotlib inline\n",
    "import matplotlib.pyplot as plt\n",
    "fig_width = 12\n",
    "figsize=(fig_width, .618*fig_width)"
   ]
  },
  {
   "cell_type": "markdown",
   "metadata": {},
   "source": [
    "Defining input image as Lena:"
   ]
  },
  {
   "cell_type": "code",
   "execution_count": null,
   "metadata": {},
   "outputs": [],
   "source": [
    "import numpy as np\n",
    "np.set_printoptions(precision=2, suppress=True)"
   ]
  },
  {
   "cell_type": "code",
   "execution_count": null,
   "metadata": {},
   "outputs": [],
   "source": [
    "from LogGabor import imread\n",
    "image = imread('https://github.com/bicv/SLIP/raw/master/database/yelmo512.png')\n",
    "print('Mean intensity: ', image.mean(), ' - standard deviation: ', image.std())"
   ]
  },
  {
   "cell_type": "markdown",
   "metadata": {},
   "source": [
    "Defining image processing framework by creating a ``LogGabor`` object:"
   ]
  },
  {
   "cell_type": "code",
   "execution_count": null,
   "metadata": {},
   "outputs": [],
   "source": [
    "lg = LogGabor(parameterfile)\n",
    "lg.set_size(image)"
   ]
  },
  {
   "cell_type": "markdown",
   "metadata": {},
   "source": [
    "\n",
    "Rectifying image:"
   ]
  },
  {
   "cell_type": "code",
   "execution_count": null,
   "metadata": {},
   "outputs": [],
   "source": [
    "image = lg.normalize(image, center=True)\n",
    "print('Mean intensity: ', image.mean(), ' - standard deviation: ', image.std())"
   ]
  },
  {
   "cell_type": "markdown",
   "metadata": {},
   "source": [
    "## generating some LogGabor filters"
   ]
  },
  {
   "cell_type": "markdown",
   "metadata": {},
   "source": [
    "Defining a reference log-gabor  (look in the corners!)"
   ]
  },
  {
   "cell_type": "code",
   "execution_count": null,
   "metadata": {},
   "outputs": [],
   "source": [
    "sf_0 = .02 # TODO .1 cycle / pixel (Geisler)\n",
    "params= {'sf_0':sf_0, 'B_sf': lg.pe.B_sf, 'theta':0., 'B_theta': lg.pe.B_theta}"
   ]
  },
  {
   "cell_type": "code",
   "execution_count": null,
   "metadata": {},
   "outputs": [],
   "source": [
    "%opts Image (cmap='gray')\n",
    "%opts Image.Fourier_domain (cmap='hot')"
   ]
  },
  {
   "cell_type": "code",
   "execution_count": null,
   "metadata": {},
   "outputs": [],
   "source": [
    "def fourier_domain(arr):\n",
    "    return hv.Image(arr, group='Fourier domain',\n",
    "                 key_dimensions=[r'$f_Y$', r'$f_X$'],\n",
    "                 value_dimensions=[hv.Dimension('Fourier', range=(0,0.01))])\n",
    "def image_domain(arr):\n",
    "    return hv.Image(arr,group='Image domain',\n",
    "                 key_dimensions=[r'$Y$', r'$X$'],\n",
    "                 value_dimensions=[hv.Dimension('Image', range=(-1,1))])"
   ]
  },
  {
   "cell_type": "code",
   "execution_count": null,
   "metadata": {},
   "outputs": [],
   "source": [
    "FT_lg = lg.loggabor(0, 0, **params)\n",
    "(fourier_domain(lg.normalize(np.absolute(FT_lg), center=False))\n",
    "+ image_domain(lg.normalize(lg.invert(FT_lg), center=False)))"
   ]
  },
  {
   "cell_type": "markdown",
   "metadata": {},
   "source": [
    "Translating in the middle:"
   ]
  },
  {
   "cell_type": "code",
   "execution_count": null,
   "metadata": {},
   "outputs": [],
   "source": [
    "N_X, N_Y = image.shape\n",
    "help(lg.translate)"
   ]
  },
  {
   "cell_type": "markdown",
   "metadata": {},
   "source": [
    "same params, larger frequency with sf_0"
   ]
  },
  {
   "cell_type": "code",
   "execution_count": null,
   "metadata": {},
   "outputs": [],
   "source": [
    "params2 = {'sf_0':sf_0*4, 'B_sf':lg.pe.B_sf, 'theta':0., 'B_theta':lg.pe.B_theta}\n",
    "FT_lg = lg.loggabor(N_X/2, N_Y/2, **params2)\n",
    "(fourier_domain(lg.normalize(np.absolute(FT_lg), center=False))\n",
    "+ image_domain(lg.normalize(lg.invert(FT_lg), center=False)))"
   ]
  },
  {
   "cell_type": "markdown",
   "metadata": {},
   "source": [
    "Same params, but larger frequency with sf_0"
   ]
  },
  {
   "cell_type": "code",
   "execution_count": null,
   "metadata": {},
   "outputs": [],
   "source": [
    "params2 = {'sf_0':sf_0*4, 'B_sf':lg.pe.B_sf, 'theta':0., 'B_theta':lg.pe.B_theta}"
   ]
  },
  {
   "cell_type": "code",
   "execution_count": null,
   "metadata": {},
   "outputs": [],
   "source": [
    "FT_lg = lg.loggabor(N_X/4, N_Y/2, **params2)\n",
    "(fourier_domain(lg.normalize(np.absolute(FT_lg), center=False))\n",
    "+ image_domain(lg.normalize(lg.invert(FT_lg), center=False)))"
   ]
  },
  {
   "cell_type": "markdown",
   "metadata": {},
   "source": [
    "Narrower with a smaller B_theta:"
   ]
  },
  {
   "cell_type": "code",
   "execution_count": null,
   "metadata": {},
   "outputs": [],
   "source": [
    "params3 = {'sf_0':sf_0, 'B_sf':lg.pe.B_sf, 'theta':0., 'B_theta':lg.pe.B_theta/2}\n",
    "FT_lg = lg.loggabor(N_X/4, 3*N_Y/4, **params3)\n",
    "(fourier_domain(lg.normalize(np.absolute(FT_lg), center=False))\n",
    "+ image_domain(lg.normalize(lg.invert(FT_lg), center=False)))"
   ]
  },
  {
   "cell_type": "markdown",
   "metadata": {},
   "source": [
    "Broader spectrum with B_sf"
   ]
  },
  {
   "cell_type": "code",
   "execution_count": null,
   "metadata": {},
   "outputs": [],
   "source": [
    "params4 = {'sf_0':sf_0, 'B_sf':lg.pe.B_sf*2., 'theta':0., 'B_theta':lg.pe.B_theta}\n",
    "FT_lg = lg.loggabor(N_X/4, N_Y/4, **params4)\n",
    "(fourier_domain(lg.normalize(np.absolute(FT_lg), center=False))\n",
    "+ image_domain(lg.normalize(lg.invert(FT_lg), center=False)))"
   ]
  },
  {
   "cell_type": "markdown",
   "metadata": {},
   "source": [
    "Using a function to explore these parameters:"
   ]
  },
  {
   "cell_type": "code",
   "execution_count": null,
   "metadata": {},
   "outputs": [],
   "source": [
    "def lg_explore(param_name, param_range, angle=False, movie=True):\n",
    "    if movie:\n",
    "        amp_map, phase_map = hv.HoloMap(), hv.HoloMap()\n",
    "    else:\n",
    "        ims = []\n",
    "    for param_ in param_range:\n",
    "        if angle:\n",
    "            title = np.str(param_*180/np.pi) + r'$^0$'\n",
    "        else:\n",
    "            title = np.str(param_)\n",
    "        if param_name=='phase':\n",
    "            FT_phase = np.exp(-1j*param_)\n",
    "            params_=params.copy()\n",
    "        else:\n",
    "            FT_phase = 1\n",
    "            params_=params.copy()\n",
    "            params_.update({param_name:param_})\n",
    "        FT_lg = lg.loggabor(N_X/2, N_Y/2, **params_) * FT_phase\n",
    "        \n",
    "        amp =   fourier_domain(lg.normalize(np.absolute(FT_lg), center=False))\n",
    "        phase = image_domain(lg.normalize(lg.invert(FT_lg),  center=False))\n",
    "        \n",
    "        if movie:\n",
    "            amp_map[param_] = amp\n",
    "            phase_map[param_] = phase\n",
    "        else:\n",
    "            ims.append((amp + phase))\n",
    "    if movie:\n",
    "        return amp_map + phase_map\n",
    "    else:\n",
    "        return np.sum(ims).cols(2)"
   ]
  },
  {
   "cell_type": "markdown",
   "metadata": {},
   "source": [
    "Now exploring these parameters individually:"
   ]
  },
  {
   "cell_type": "code",
   "execution_count": null,
   "metadata": {},
   "outputs": [],
   "source": [
    "lg_explore(param_name='phase', \n",
    "           param_range=np.linspace(0, np.pi, 24, endpoint=False), angle=True)"
   ]
  },
  {
   "cell_type": "code",
   "execution_count": null,
   "metadata": {},
   "outputs": [],
   "source": [
    "lg_explore(param_name='theta', \n",
    "           param_range=lg.theta, \n",
    "           angle=True)"
   ]
  },
  {
   "cell_type": "code",
   "execution_count": null,
   "metadata": {
    "scrolled": true
   },
   "outputs": [],
   "source": [
    "lg_explore(param_name='B_theta', \n",
    "           param_range=lg.pe.B_theta*np.logspace(-.3, .2, 6), angle=True)"
   ]
  },
  {
   "cell_type": "markdown",
   "metadata": {},
   "source": [
    "Here, we define a pyramid by defining a vector of ``sf_0`` values that we use later in Matching Pursuit (see https://github.com/bicv/SparseEdges):"
   ]
  },
  {
   "cell_type": "code",
   "execution_count": null,
   "metadata": {},
   "outputs": [],
   "source": [
    "#n_levels = int(np.log(np.max((lg.pe.N_X, lg.pe.N_Y)))/np.log(lg.pe.base_levels))\n",
    "print('for an image of size', np.max((lg.pe.N_X, lg.pe.N_Y)), ', at base lg.pe.base_levels=', lg.pe.base_levels, ', we have n_levels=', lg.n_levels)\n",
    "#v_sf_0 = .5 * (1 - 1/n_levels) / np.logspace(0, n_levels, n_levels, base=lg.pe.base_levels)[::-1]\n",
    "print('Range of spatial frequencies (in cycles per image pixel) =', lg.sf_0)\n",
    "print('Range of spatial frequencies (in pixels per cycle) =', 1./lg.sf_0)\n",
    "print('Range of spatial frequencies (in cycles per image size) =', lg.pe.N_X * lg.sf_0)\n",
    "lg_explore(param_name='sf_0', param_range=lg.sf_0)"
   ]
  },
  {
   "cell_type": "markdown",
   "metadata": {},
   "source": [
    "geometric mean distances across frequencies :"
   ]
  },
  {
   "cell_type": "code",
   "execution_count": null,
   "metadata": {},
   "outputs": [],
   "source": [
    "scaling = np.sqrt(lg.sf_0[:, np.newaxis]*lg.sf_0[np.newaxis, :])\n",
    "print('mean scaling=', scaling.mean())"
   ]
  },
  {
   "cell_type": "code",
   "execution_count": null,
   "metadata": {},
   "outputs": [],
   "source": [
    "lg_explore(param_name='B_sf', param_range=lg.pe.B_sf*np.logspace(-.6, .6, 9))"
   ]
  },
  {
   "cell_type": "markdown",
   "metadata": {},
   "source": [
    "[Back to top](#LogGabor-user-guide)"
   ]
  },
  {
   "cell_type": "markdown",
   "metadata": {},
   "source": [
    "## Testing on a sample image"
   ]
  },
  {
   "cell_type": "code",
   "execution_count": null,
   "metadata": {},
   "outputs": [],
   "source": [
    "lg = LogGabor(parameterfile)\n",
    "image = imread('https://github.com/bicv/SLIP/raw/master/database/yelmo512.png')\n",
    "lg.set_size(image)\n",
    "lg.pe.datapath = 'database/'\n",
    "print(lg.pe)"
   ]
  },
  {
   "cell_type": "code",
   "execution_count": null,
   "metadata": {},
   "outputs": [],
   "source": [
    "%%opts Image (cmap='gray') \n",
    "hv.Image(image)"
   ]
  },
  {
   "cell_type": "code",
   "execution_count": null,
   "metadata": {},
   "outputs": [],
   "source": [
    "%%opts Image (cmap='gray') \n",
    "image = lg.whitening(image)*lg.mask\n",
    "hv.Image(image)"
   ]
  },
  {
   "cell_type": "code",
   "execution_count": null,
   "metadata": {},
   "outputs": [],
   "source": [
    "%opts Image.Phase_domain (cmap='hsv')\n",
    "%opts Image.Amplitude_domain (cmap='hot')"
   ]
  },
  {
   "cell_type": "code",
   "execution_count": null,
   "metadata": {},
   "outputs": [],
   "source": [
    "#! a function to explore these parameters:\n",
    "def filter_explore(image, param_name, param_range, verb=False, angle=False, movie=True):\n",
    "    if movie:\n",
    "        amp_map, phase_map = hv.HoloMap(), hv.HoloMap()\n",
    "    else:\n",
    "        ims = []\n",
    "    for param_ in param_range:\n",
    "        if angle:\n",
    "            title = np.str(param_*180/np.pi) + r'$^0$'\n",
    "        else:\n",
    "            title = np.str(param_)\n",
    "        if param_name=='phase':\n",
    "            FT_phase = np.exp(-1j*param_)\n",
    "            params_=params.copy()\n",
    "        else:\n",
    "            FT_phase = 1\n",
    "            params_=params.copy()\n",
    "            params_.update({param_name:param_})\n",
    "        FT_lg = lg.loggabor(0, 0, **params_)\n",
    "        im_ = lg.FTfilter(image, FT_lg, full=True)\n",
    "        \n",
    "        amp = hv.Image(lg.normalize(np.absolute(im_), center=False), \n",
    "                    group='Amplitude domain',\n",
    "                    key_dimensions=[r'$f_x$', r'$f_y$'],\n",
    "                    value_dimensions=[hv.Dimension('Amplitude', range=(0,1))])\n",
    "        phase = hv.Image(np.angle(im_)/np.pi,\n",
    "                    group='Phase domain',\n",
    "                    key_dimensions=[r'$x$', r'$y$'],\n",
    "                    value_dimensions=[hv.Dimension('Phase', range=(-1,1))])\n",
    "        if movie:\n",
    "            amp_map[param_] = amp\n",
    "            phase_map[param_] = phase\n",
    "        else:\n",
    "            ims.append((amp+phase))\n",
    "    if movie:\n",
    "        return amp_map + phase_map\n",
    "    else:\n",
    "        return np.sum(sv).cols(2)"
   ]
  },
  {
   "cell_type": "code",
   "execution_count": null,
   "metadata": {},
   "outputs": [],
   "source": [
    "#! explore parameters of LogGabors on the filtering:\n",
    "filter_explore(image, param_name='theta', param_range=lg.theta)"
   ]
  },
  {
   "cell_type": "code",
   "execution_count": null,
   "metadata": {},
   "outputs": [],
   "source": [
    "filter_explore(image, param_name='B_theta', param_range=lg.pe.B_theta*np.logspace(-.3, .2, 6))"
   ]
  },
  {
   "cell_type": "code",
   "execution_count": null,
   "metadata": {},
   "outputs": [],
   "source": [
    "filter_explore(image, param_name='sf_0', param_range=lg.sf_0, verb=True)"
   ]
  },
  {
   "cell_type": "code",
   "execution_count": null,
   "metadata": {},
   "outputs": [],
   "source": [
    "filter_explore(image, param_name='B_sf', param_range=lg.pe.B_sf*np.logspace(-.6, .6, 9))"
   ]
  },
  {
   "cell_type": "markdown",
   "metadata": {},
   "source": [
    "[Back to top](#LogGabor-user-guide)"
   ]
  },
  {
   "cell_type": "markdown",
   "metadata": {},
   "source": [
    "## more book keeping"
   ]
  },
  {
   "cell_type": "code",
   "execution_count": null,
   "metadata": {},
   "outputs": [],
   "source": [
    "%load_ext watermark\n",
    "%watermark"
   ]
  },
  {
   "cell_type": "code",
   "execution_count": null,
   "metadata": {},
   "outputs": [],
   "source": [
    "%load_ext version_information\n",
    "%version_information numpy, scipy, matplotlib, sympy, SLIP, LogGabor"
   ]
  },
  {
   "cell_type": "markdown",
   "metadata": {},
   "source": [
    "[Back to top](#LogGabor-user-guide)"
   ]
  }
 ],
 "metadata": {
  "kernelspec": {
   "display_name": "Python 3",
   "language": "python",
   "name": "python3"
  },
  "language_info": {
   "codemirror_mode": {
    "name": "ipython",
    "version": 3
   },
   "file_extension": ".py",
   "mimetype": "text/x-python",
   "name": "python",
   "nbconvert_exporter": "python",
   "pygments_lexer": "ipython3",
   "version": "3.6.3"
  },
  "toc": {
   "colors": {
    "hover_highlight": "#DAA520",
    "navigate_num": "#000000",
    "navigate_text": "#333333",
    "running_highlight": "#FF0000",
    "selected_highlight": "#FFD700",
    "sidebar_border": "#EEEEEE",
    "wrapper_background": "#FFFFFF"
   },
   "moveMenuLeft": true,
   "nav_menu": {
    "height": "279px",
    "width": "252px"
   },
   "navigate_menu": true,
   "number_sections": true,
   "sideBar": true,
   "threshold": 4,
   "toc_cell": false,
   "toc_section_display": "block",
   "toc_window_display": false,
   "widenNotebook": false
  }
 },
 "nbformat": 4,
 "nbformat_minor": 1
}
