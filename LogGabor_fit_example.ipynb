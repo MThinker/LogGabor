{
 "cells": [
  {
   "cell_type": "markdown",
   "metadata": {},
   "source": [
    "##### Usage example of LogGabor.LogGaborFit(   )"
   ]
  },
  {
   "cell_type": "code",
   "execution_count": 1,
   "metadata": {},
   "outputs": [],
   "source": [
    "import pickle\n",
    "from LogGabor import LogGabor\n",
    "import matplotlib.pyplot as plt\n",
    "import numpy as np\n",
    "import numpy.random as rand\n",
    "import matplotlib\n",
    "\n",
    "lg = LogGabor('https://raw.githubusercontent.com/bicv/SparseEdges/master/default_param.py')"
   ]
  },
  {
   "cell_type": "markdown",
   "metadata": {},
   "source": [
    "##### Loading a dictionary \n",
    "\n",
    "M = {100, 200, 400, 800, 1000}"
   ]
  },
  {
   "cell_type": "code",
   "execution_count": null,
   "metadata": {},
   "outputs": [],
   "source": [
    "M = 1000\n",
    "with open('database/dictionary_examples/SHL_homeo_M_{}_dico.pkl'.format(M), 'rb') as fp:\n",
    "    dico = pickle.load(fp)\n",
    "dictx = dico.dictionary    "
   ]
  },
  {
   "cell_type": "markdown",
   "metadata": {},
   "source": [
    "##### Fitting dictionary with LogGabor Patches"
   ]
  },
  {
   "cell_type": "code",
   "execution_count": null,
   "metadata": {},
   "outputs": [],
   "source": [
    "\n",
    "dictx_fit, dictx_fit_param, idx_unfitted, names = lg.LogGaborFit_dictionary(dictx, \n",
    "                                                                            verbose=False, get_unfitted=True, \n",
    "                                                                            whoswho=True)\n"
   ]
  },
  {
   "cell_type": "code",
   "execution_count": null,
   "metadata": {},
   "outputs": [],
   "source": [
    "#to delete dictionary elements that failed to fit\n",
    "if idx_unfitted:\n",
    "    dictx = np.delete(dictx, idx_unfitted, axis=0)\n",
    "    dictx_fit = np.delete(dictx_fit, idx_unfitted, axis=0)\n",
    "    dictx_fit_param = np.delete(dictx_fit_param, idx_unfitted, axis=0)"
   ]
  },
  {
   "cell_type": "markdown",
   "metadata": {},
   "source": [
    "'whoswho = True' to get the names of the LogGabor parameters"
   ]
  },
  {
   "cell_type": "code",
   "execution_count": null,
   "metadata": {},
   "outputs": [],
   "source": [
    "names"
   ]
  },
  {
   "cell_type": "markdown",
   "metadata": {},
   "source": [
    "##### Results example\n",
    "\n",
    "Showing 10 dictionary patches picked at random with corresponding fits"
   ]
  },
  {
   "cell_type": "code",
   "execution_count": null,
   "metadata": {
    "scrolled": false
   },
   "outputs": [],
   "source": [
    "subplotpars = matplotlib.figure.SubplotParams(wspace=0.05, hspace=0.05)\n",
    "\n",
    "nrows=10\n",
    "ncols=4\n",
    "\n",
    "fig , ax = plt.subplots(nrows, ncols, figsize=(10, 30), subplotpars=subplotpars) \n",
    "\n",
    "idx = rand.permutation(dictx.shape[0])\n",
    "idx = idx[:nrows]\n",
    "\n",
    "for k in range(nrows):\n",
    "        \n",
    "    patch_original = np.reshape(dictx[idx[k],:],(32,32))\n",
    "    cmax = np.max(np.abs(patch_original))\n",
    "    patch_fitted = np.reshape(dictx_fit[idx[k],:],(32,32))\n",
    "    residual = patch_original - patch_fitted\n",
    "    \n",
    "    opts = dict(cmap='gray', vmin=-cmax, vmax=+cmax)\n",
    "    opts2= dict(fontsize=14)\n",
    "    \n",
    "    i=0\n",
    "    ax[k,i].imshow(patch_original, **opts)\n",
    "    ax[k,i].xaxis.set_visible(False)\n",
    "    ax[k,i].yaxis.set_visible(False)\n",
    "    if k==0:\n",
    "        ax[k,i].set_title('Original', fontsize=18)\n",
    "    \n",
    "    i=1\n",
    "    ax[k,i].imshow(patch_fitted, **opts)\n",
    "    ax[k,i].xaxis.set_visible(False)\n",
    "    ax[k,i].yaxis.set_visible(False)\n",
    "    if k==0:\n",
    "        ax[k,i].set_title('Fitted', fontsize=18)\n",
    "    \n",
    "    i=2\n",
    "    ax[k,i].imshow(residual, **opts)\n",
    "    ax[k,i].xaxis.set_visible(False)\n",
    "    ax[k,i].yaxis.set_visible(False)\n",
    "    if k==0:\n",
    "        ax[k,i].set_title('Residual', fontsize=18)\n",
    "        \n",
    "    i=3\n",
    "    ax[k,i].text(0, 0.75, r'$x_0$ = (%3f, %3f)'%(dictx_fit_param[idx[k],0],dictx_fit_param[idx[k],1]), **opts2)\n",
    "    ax[k,i].text(0, 0.65, r'$\\theta$ = %3f'%(dictx_fit_param[idx[k],2]), **opts2)\n",
    "    ax[k,i].text(0, 0.55, r'$sf_0$ = %3f'%(dictx_fit_param[idx[k],3]), **opts2)\n",
    "    ax[k,i].text(0, 0.45, r'$\\phi$ = %3f'%(dictx_fit_param[idx[k],4]), **opts2)\n",
    "    ax[k,i].text(0, 0.35, r'$B_{sf}$ = %3f'%(dictx_fit_param[idx[k],5]), **opts2)\n",
    "    ax[k,i].text(0, 0.25, r'$B_\\theta$ = %3f'%(dictx_fit_param[idx[k],6]), **opts2)\n",
    "    ax[k,i].xaxis.set_visible(False)\n",
    "    ax[k,i].yaxis.set_visible(False)\n",
    "    ax[k,i].spines[\"top\"].set_visible(False)\n",
    "    ax[k,i].spines[\"left\"].set_visible(False)\n",
    "    ax[k,i].spines[\"right\"].set_visible(False)\n",
    "    ax[k,i].spines[\"bottom\"].set_visible(False)\n",
    "    if k==0:\n",
    "        ax[k,i].set_title('Parameters \\nvalues', fontsize=18)\n",
    "        \n",
    "   \n",
    "plt.show(fig)"
   ]
  }
 ],
 "metadata": {
  "kernelspec": {
   "display_name": "Python 3",
   "language": "python",
   "name": "python3"
  },
  "language_info": {
   "codemirror_mode": {
    "name": "ipython",
    "version": 3
   },
   "file_extension": ".py",
   "mimetype": "text/x-python",
   "name": "python",
   "nbconvert_exporter": "python",
   "pygments_lexer": "ipython3",
   "version": "3.6.3"
  },
  "toc": {
   "colors": {
    "hover_highlight": "#DAA520",
    "navigate_num": "#000000",
    "navigate_text": "#333333",
    "running_highlight": "#FF0000",
    "selected_highlight": "#FFD700",
    "sidebar_border": "#EEEEEE",
    "wrapper_background": "#FFFFFF"
   },
   "moveMenuLeft": true,
   "nav_menu": {
    "height": "99px",
    "width": "252px"
   },
   "navigate_menu": true,
   "number_sections": true,
   "sideBar": true,
   "threshold": 4,
   "toc_cell": false,
   "toc_section_display": "block",
   "toc_window_display": false,
   "widenNotebook": false
  }
 },
 "nbformat": 4,
 "nbformat_minor": 2
}
