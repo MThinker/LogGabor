{
 "metadata": {
  "name": "",
  "signature": "sha256:353b4deaa02da33d17f97b35e79be7223435940dd826b2e956897fc63dab42c7"
 },
 "nbformat": 3,
 "nbformat_minor": 0,
 "worksheets": [
  {
   "cells": [
    {
     "cell_type": "heading",
     "level": 1,
     "metadata": {},
     "source": [
      "Tests for LogGabor :  filter generation and image filtering"
     ]
    },
    {
     "cell_type": "code",
     "collapsed": false,
     "input": [
      "%matplotlib inline\n",
      "import matplotlib.pyplot as plt\n",
      "import numpy as np\n",
      "np.set_printoptions(precision=2, suppress=True)"
     ],
     "language": "python",
     "metadata": {},
     "outputs": [],
     "prompt_number": 6
    },
    {
     "cell_type": "code",
     "collapsed": false,
     "input": [
      "from NeuroTools.parameters import ParameterSet\n",
      "pe = ParameterSet('default_param.py')\n",
      "opts= {'cmap': pylab.cm.gray, 'vmin':-1., 'vmax':1., 'interpolation':'nearest', 'origin':'upper'}#, 'figsize':(16,4)}\n",
      "import LogGabor as LG"
     ],
     "language": "python",
     "metadata": {},
     "outputs": [],
     "prompt_number": 7
    },
    {
     "cell_type": "code",
     "collapsed": false,
     "input": [
      "#! this test report is about the LogGabor class:\n",
      "print LG.LogGabor.__doc__"
     ],
     "language": "python",
     "metadata": {},
     "outputs": [
      {
       "output_type": "stream",
       "stream": "stdout",
       "text": [
        "\n",
        "    defines a LogGabor transform.\n",
        "\n",
        "    Its envelope is equivalent to a log-normal probability distribution on the frequncy axis, and von-mises on the radial axis.\n",
        "\n",
        "\n",
        "    \n"
       ]
      }
     ],
     "prompt_number": 8
    },
    {
     "cell_type": "heading",
     "level": 2,
     "metadata": {},
     "source": [
      "testing coordinates in Fourier space"
     ]
    },
    {
     "cell_type": "code",
     "collapsed": false,
     "input": [
      "#! let's define the image processing framework\n",
      "pe.N_X = 32\n",
      "im = LG.Image(pe)\n",
      "pylab.subplot(111)\n",
      "#! im.f gives the radial coordinates - note the overlay of coordinates in the matrix\n",
      "pylab.imshow(im.normalize(im.f), **opts)\n",
      "pylab.show()\n",
      "print im.f[(im.n_x-1)//2 + 1, (im.n_y-1)//2 + 1], im.f[(im.n_x-1)//2 , (im.n_y-1)//2 ]\n",
      "im = LG.Image(pe)\n",
      "pylab.subplot(111)\n",
      "pylab.imshow(im.normalize(im.f), **opts)\n",
      "pylab.show()\n",
      "print im.f[(im.n_x-1)//2 + 1, (im.n_y-1)//2 + 1], im.f[(im.n_x-1)//2 , (im.n_y-1)//2 ]"
     ],
     "language": "python",
     "metadata": {},
     "outputs": [
      {
       "metadata": {},
       "output_type": "display_data",
       "png": "[encoded data removed]",
       "text": [
        "<matplotlib.figure.Figure at 0x1082dd9d0>"
       ]
      },
      {
       "output_type": "stream",
       "stream": "stdout",
       "text": [
        "1e-12 1.41421356237\n"
       ]
      },
      {
       "metadata": {},
       "output_type": "display_data",
       "png": "[encoded data removed]",
       "text": [
        "<matplotlib.figure.Figure at 0x108277d10>"
       ]
      },
      {
       "output_type": "stream",
       "stream": "stdout",
       "text": [
        "1e-12 1.41421356237\n"
       ]
      }
     ],
     "prompt_number": 9
    },
    {
     "cell_type": "code",
     "collapsed": false,
     "input": [
      "#! defining input image as Lena\n",
      "#!-----------------------------\n",
      "image = pylab.imread('database/yelmo256.png')[:,:,0]\n",
      "#image = pylab.imread('database/gris128.png')[:,:,0]\n",
      "image = pylab.imread('database/gris512.png')[:,:,0]\n",
      "print image.mean(), image.std()"
     ],
     "language": "python",
     "metadata": {},
     "outputs": [
      {
       "ename": "IOError",
       "evalue": "[Errno 2] No such file or directory: 'database/yelmo256.png'",
       "output_type": "pyerr",
       "traceback": [
        "\u001b[0;31m---------------------------------------------------------------------------\u001b[0m\n\u001b[0;31mIOError\u001b[0m                                   Traceback (most recent call last)",
        "\u001b[0;32m<ipython-input-10-91cec55f3c99>\u001b[0m in \u001b[0;36m<module>\u001b[0;34m()\u001b[0m\n\u001b[1;32m      1\u001b[0m \u001b[0;31m#! defining input image as Lena\u001b[0m\u001b[0;34m\u001b[0m\u001b[0;34m\u001b[0m\u001b[0m\n\u001b[1;32m      2\u001b[0m \u001b[0;31m#!-----------------------------\u001b[0m\u001b[0;34m\u001b[0m\u001b[0;34m\u001b[0m\u001b[0m\n\u001b[0;32m----> 3\u001b[0;31m \u001b[0mimage\u001b[0m \u001b[0;34m=\u001b[0m \u001b[0mpylab\u001b[0m\u001b[0;34m.\u001b[0m\u001b[0mimread\u001b[0m\u001b[0;34m(\u001b[0m\u001b[0;34m'database/yelmo256.png'\u001b[0m\u001b[0;34m)\u001b[0m\u001b[0;34m[\u001b[0m\u001b[0;34m:\u001b[0m\u001b[0;34m,\u001b[0m\u001b[0;34m:\u001b[0m\u001b[0;34m,\u001b[0m\u001b[0;36m0\u001b[0m\u001b[0;34m]\u001b[0m\u001b[0;34m\u001b[0m\u001b[0m\n\u001b[0m\u001b[1;32m      4\u001b[0m \u001b[0;31m#image = pylab.imread('database/gris128.png')[:,:,0]\u001b[0m\u001b[0;34m\u001b[0m\u001b[0;34m\u001b[0m\u001b[0m\n\u001b[1;32m      5\u001b[0m \u001b[0mimage\u001b[0m \u001b[0;34m=\u001b[0m \u001b[0mpylab\u001b[0m\u001b[0;34m.\u001b[0m\u001b[0mimread\u001b[0m\u001b[0;34m(\u001b[0m\u001b[0;34m'database/gris512.png'\u001b[0m\u001b[0;34m)\u001b[0m\u001b[0;34m[\u001b[0m\u001b[0;34m:\u001b[0m\u001b[0;34m,\u001b[0m\u001b[0;34m:\u001b[0m\u001b[0;34m,\u001b[0m\u001b[0;36m0\u001b[0m\u001b[0;34m]\u001b[0m\u001b[0;34m\u001b[0m\u001b[0m\n",
        "\u001b[0;32m/usr/local/lib/python2.7/site-packages/matplotlib/pyplot.pyc\u001b[0m in \u001b[0;36mimread\u001b[0;34m(*args, **kwargs)\u001b[0m\n\u001b[1;32m   2175\u001b[0m \u001b[0;34m@\u001b[0m\u001b[0mdocstring\u001b[0m\u001b[0;34m.\u001b[0m\u001b[0mcopy_dedent\u001b[0m\u001b[0;34m(\u001b[0m\u001b[0m_imread\u001b[0m\u001b[0;34m)\u001b[0m\u001b[0;34m\u001b[0m\u001b[0m\n\u001b[1;32m   2176\u001b[0m \u001b[0;32mdef\u001b[0m \u001b[0mimread\u001b[0m\u001b[0;34m(\u001b[0m\u001b[0;34m*\u001b[0m\u001b[0margs\u001b[0m\u001b[0;34m,\u001b[0m \u001b[0;34m**\u001b[0m\u001b[0mkwargs\u001b[0m\u001b[0;34m)\u001b[0m\u001b[0;34m:\u001b[0m\u001b[0;34m\u001b[0m\u001b[0m\n\u001b[0;32m-> 2177\u001b[0;31m     \u001b[0;32mreturn\u001b[0m \u001b[0m_imread\u001b[0m\u001b[0;34m(\u001b[0m\u001b[0;34m*\u001b[0m\u001b[0margs\u001b[0m\u001b[0;34m,\u001b[0m \u001b[0;34m**\u001b[0m\u001b[0mkwargs\u001b[0m\u001b[0;34m)\u001b[0m\u001b[0;34m\u001b[0m\u001b[0m\n\u001b[0m\u001b[1;32m   2178\u001b[0m \u001b[0;34m\u001b[0m\u001b[0m\n\u001b[1;32m   2179\u001b[0m \u001b[0;34m\u001b[0m\u001b[0m\n",
        "\u001b[0;32m/usr/local/lib/python2.7/site-packages/matplotlib/image.pyc\u001b[0m in \u001b[0;36mimread\u001b[0;34m(fname, format)\u001b[0m\n\u001b[1;32m   1253\u001b[0m     \u001b[0;31m# tricky in C.\u001b[0m\u001b[0;34m\u001b[0m\u001b[0;34m\u001b[0m\u001b[0m\n\u001b[1;32m   1254\u001b[0m     \u001b[0;32mif\u001b[0m \u001b[0mcbook\u001b[0m\u001b[0;34m.\u001b[0m\u001b[0mis_string_like\u001b[0m\u001b[0;34m(\u001b[0m\u001b[0mfname\u001b[0m\u001b[0;34m)\u001b[0m\u001b[0;34m:\u001b[0m\u001b[0;34m\u001b[0m\u001b[0m\n\u001b[0;32m-> 1255\u001b[0;31m         \u001b[0;32mwith\u001b[0m \u001b[0mopen\u001b[0m\u001b[0;34m(\u001b[0m\u001b[0mfname\u001b[0m\u001b[0;34m,\u001b[0m \u001b[0;34m'rb'\u001b[0m\u001b[0;34m)\u001b[0m \u001b[0;32mas\u001b[0m \u001b[0mfd\u001b[0m\u001b[0;34m:\u001b[0m\u001b[0;34m\u001b[0m\u001b[0m\n\u001b[0m\u001b[1;32m   1256\u001b[0m             \u001b[0;32mreturn\u001b[0m \u001b[0mhandler\u001b[0m\u001b[0;34m(\u001b[0m\u001b[0mfd\u001b[0m\u001b[0;34m)\u001b[0m\u001b[0;34m\u001b[0m\u001b[0m\n\u001b[1;32m   1257\u001b[0m     \u001b[0;32melse\u001b[0m\u001b[0;34m:\u001b[0m\u001b[0;34m\u001b[0m\u001b[0m\n",
        "\u001b[0;31mIOError\u001b[0m: [Errno 2] No such file or directory: 'database/yelmo256.png'"
       ]
      }
     ],
     "prompt_number": 10
    },
    {
     "cell_type": "code",
     "collapsed": false,
     "input": [
      "pe.N_X = image.shape[0]\n",
      "im = LG.Image(pe)\n",
      "image = im.normalize(image, center=True)\n",
      "print image.mean(), image.std()"
     ],
     "language": "python",
     "metadata": {},
     "outputs": [
      {
       "ename": "NameError",
       "evalue": "name 'image' is not defined",
       "output_type": "pyerr",
       "traceback": [
        "\u001b[0;31m---------------------------------------------------------------------------\u001b[0m\n\u001b[0;31mNameError\u001b[0m                                 Traceback (most recent call last)",
        "\u001b[0;32m<ipython-input-11-c5b44232f08a>\u001b[0m in \u001b[0;36m<module>\u001b[0;34m()\u001b[0m\n\u001b[0;32m----> 1\u001b[0;31m \u001b[0mpe\u001b[0m\u001b[0;34m.\u001b[0m\u001b[0mN_X\u001b[0m \u001b[0;34m=\u001b[0m \u001b[0mimage\u001b[0m\u001b[0;34m.\u001b[0m\u001b[0mshape\u001b[0m\u001b[0;34m[\u001b[0m\u001b[0;36m0\u001b[0m\u001b[0;34m]\u001b[0m\u001b[0;34m\u001b[0m\u001b[0m\n\u001b[0m\u001b[1;32m      2\u001b[0m \u001b[0mim\u001b[0m \u001b[0;34m=\u001b[0m \u001b[0mLG\u001b[0m\u001b[0;34m.\u001b[0m\u001b[0mImage\u001b[0m\u001b[0;34m(\u001b[0m\u001b[0mpe\u001b[0m\u001b[0;34m)\u001b[0m\u001b[0;34m\u001b[0m\u001b[0m\n\u001b[1;32m      3\u001b[0m \u001b[0mimage\u001b[0m \u001b[0;34m=\u001b[0m \u001b[0mim\u001b[0m\u001b[0;34m.\u001b[0m\u001b[0mnormalize\u001b[0m\u001b[0;34m(\u001b[0m\u001b[0mimage\u001b[0m\u001b[0;34m,\u001b[0m \u001b[0mcenter\u001b[0m\u001b[0;34m=\u001b[0m\u001b[0mTrue\u001b[0m\u001b[0;34m)\u001b[0m\u001b[0;34m\u001b[0m\u001b[0m\n\u001b[1;32m      4\u001b[0m \u001b[0;32mprint\u001b[0m \u001b[0mimage\u001b[0m\u001b[0;34m.\u001b[0m\u001b[0mmean\u001b[0m\u001b[0;34m(\u001b[0m\u001b[0;34m)\u001b[0m\u001b[0;34m,\u001b[0m \u001b[0mimage\u001b[0m\u001b[0;34m.\u001b[0m\u001b[0mstd\u001b[0m\u001b[0;34m(\u001b[0m\u001b[0;34m)\u001b[0m\u001b[0;34m\u001b[0m\u001b[0m\n",
        "\u001b[0;31mNameError\u001b[0m: name 'image' is not defined"
       ]
      }
     ],
     "prompt_number": 11
    },
    {
     "cell_type": "code",
     "collapsed": false,
     "input": [
      "lg = LG.LogGabor(im)\n",
      "n = image.shape[0]\n",
      "#! generating some LogGabor filters\n",
      "#!---------------------------------\n",
      "#! viewing is done by a dedicated function, show_loggabor :\n",
      "print SE.LogGabor.show_loggabor.__doc__"
     ],
     "language": "python",
     "metadata": {},
     "outputs": []
    },
    {
     "cell_type": "code",
     "collapsed": false,
     "input": [
      "#! defining a reference log-gabor \n",
      "# (look in the corners!)\n",
      "sf_0 = image.shape[0]/25. # TODO .1 cycle / pixel (Geisler)\n",
      "params= {'sf_0':sf_0, 'B_sf': pe.B_sf, 'theta':0., 'B_theta': pe.B_theta}\n",
      "fig = lg.show_loggabor(0, 0, **params)"
     ],
     "language": "python",
     "metadata": {},
     "outputs": []
    },
    {
     "cell_type": "code",
     "collapsed": false,
     "input": [
      "#! translating in the middle\n",
      "N_X, N_Y = image.shape\n",
      "fig = lg.show_loggabor(n/2, n/2,  **params)"
     ],
     "language": "python",
     "metadata": {},
     "outputs": []
    },
    {
     "cell_type": "code",
     "collapsed": false,
     "input": [
      "#! same params, larger frequency with sf_0\n",
      "params2 = {'sf_0':sf_0*4, 'B_sf':pe.B_sf, 'theta':0., 'B_theta':pe.B_theta}\n",
      "fig = lg.show_loggabor(n/4, n/2, **params2)"
     ],
     "language": "python",
     "metadata": {},
     "outputs": []
    },
    {
     "cell_type": "code",
     "collapsed": false,
     "input": [
      "#! narrower with B_theta\n",
      "params3 = {'sf_0':sf_0, 'B_sf':pe.B_sf, 'theta':0., 'B_theta':pe.B_theta/4}\n",
      "fig = lg.show_loggabor(n/4, 3*n/4, **params3)"
     ],
     "language": "python",
     "metadata": {},
     "outputs": []
    },
    {
     "cell_type": "code",
     "collapsed": false,
     "input": [
      "#! broader spectrum with B_sf\n",
      "params4 = {'sf_0':sf_0, 'B_sf':pe.B_sf*2., 'theta':0., 'B_theta':pe.B_theta}\n",
      "fig = lg.show_loggabor(3*n/4, n/4, **params4)"
     ],
     "language": "python",
     "metadata": {},
     "outputs": []
    },
    {
     "cell_type": "code",
     "collapsed": false,
     "input": [
      "#! a function to explore these parameters:\n",
      "def lg_explore(param_name, param_range, angle=False):\n",
      "    for param_ in param_range:\n",
      "        if angle:\n",
      "            title = np.str(param_*180/np.pi) + '\u00b0'\n",
      "        else:\n",
      "            title = np.str(param_)\n",
      "        print param_name, title\n",
      "        params_=params.copy()\n",
      "        params_.update({param_name:param_})\n",
      "        fig, a1, a2 = lg.show_loggabor(n/2, n/2, **params_)\n",
      "        #_ = a1.set_xlabel(param_name)\n",
      "        #_ = a2.set_xlabel(title)        \n",
      "        pylab.show()"
     ],
     "language": "python",
     "metadata": {},
     "outputs": []
    },
    {
     "cell_type": "code",
     "collapsed": false,
     "input": [
      "#! explore these parameters individually:\n",
      "lg_explore(param_name='phase', param_range=np.linspace(0, np.pi, 6, endpoint=False), angle=True)"
     ],
     "language": "python",
     "metadata": {},
     "outputs": []
    },
    {
     "cell_type": "code",
     "collapsed": false,
     "input": [
      "lg_explore(param_name='theta', param_range=np.linspace(0, np.pi, 6, endpoint=False), angle=True)"
     ],
     "language": "python",
     "metadata": {},
     "outputs": []
    },
    {
     "cell_type": "code",
     "collapsed": false,
     "input": [
      "lg_explore(param_name='B_theta', param_range=np.pi/np.linspace(4, 14, 6), angle=True)"
     ],
     "language": "python",
     "metadata": {},
     "outputs": []
    },
    {
     "cell_type": "code",
     "collapsed": true,
     "input": [
      "#! sf_0  pyramid that we use later in Matching Pursuit\n",
      "base = 2 #1.618\n",
      "n_levels = int(np.log(np.max((N_X, N_Y)))/np.log(base))#+1\n",
      "v_sf_0 = N_X / np.logspace(1, n_levels, n_levels, base=base)\n",
      "#v_sf_0 =  2. ** np.arange(n_levels)\n",
      "print v_sf_0, lg.n_x / v_sf_0, len(v_sf_0)==n_levels\n",
      "lg_explore(param_name='sf_0', param_range=v_sf_0)"
     ],
     "language": "python",
     "metadata": {},
     "outputs": []
    },
    {
     "cell_type": "markdown",
     "metadata": {},
     "source": [
      "relative distances :"
     ]
    },
    {
     "cell_type": "code",
     "collapsed": false,
     "input": [
      "scaling = np.sqrt(v_sf_0[:, np.newaxis]*v_sf_0[np.newaxis, :])/np.sqrt(N_X)\n",
      "print v_sf_0\n",
      "print scaling, scaling.mean()"
     ],
     "language": "python",
     "metadata": {},
     "outputs": []
    },
    {
     "cell_type": "code",
     "collapsed": false,
     "input": [
      "lg_explore(param_name='B_sf', param_range=np.logspace(-1, 0, 5)*pe.B_sf)"
     ],
     "language": "python",
     "metadata": {},
     "outputs": []
    },
    {
     "cell_type": "heading",
     "level": 2,
     "metadata": {},
     "source": [
      "filtering input image"
     ]
    },
    {
     "cell_type": "code",
     "collapsed": false,
     "input": [
      "pylab.subplot(111)\n",
      "pylab.imshow(im.normalize(image), **opts)\n",
      "v = pylab.axis([0, n, n, 0])"
     ],
     "language": "python",
     "metadata": {},
     "outputs": []
    },
    {
     "cell_type": "code",
     "collapsed": false,
     "input": [
      "#! whitening to balance the energy of evey frequency band\n",
      "white = im.whitening(image)\n",
      "pylab.imshow(im.normalize(white), **opts)\n",
      "v = pylab.axis([0, n, n, 0])"
     ],
     "language": "python",
     "metadata": {},
     "outputs": []
    },
    {
     "cell_type": "code",
     "collapsed": false,
     "input": [
      "#! the filtering operation preserves infomation (none is lost...)\n",
      "pylab.imshow(white - im.FTfilter(white, 1.), **opts)"
     ],
     "language": "python",
     "metadata": {},
     "outputs": []
    },
    {
     "cell_type": "code",
     "collapsed": false,
     "input": [
      "#! a function to explore these parameters:\n",
      "def filter_explore(param_name, param_range):\n",
      "    for param_ in param_range:\n",
      "        print param_name, param_\n",
      "        params_=params.copy()\n",
      "        params_.update({param_name:param_})\n",
      "        FT_lg = lg.loggabor(0, 0, **params_)\n",
      "        im_ = im.FTfilter(image, FT_lg, full=True)\n",
      "        pylab.figure(figsize=(18, 6))\n",
      "        pylab.subplot(122)\n",
      "        im_phi = np.angle(im_)\n",
      "        pylab.imshow(im_phi, cmap=pylab.cm.hsv)\n",
      "        v = pylab.axis([0, n, n, 0])\n",
      "        pylab.subplot(121)\n",
      "        im_a = np.absolute(im_)\n",
      "        im_a = 2*im.normalize(im_a)-1 # back in the range -1, 1\n",
      "        pylab.imshow(im_a, **opts)\n",
      "        v = pylab.axis([0, n, n, 0])\n",
      "        pylab.show()\n",
      "#! explore parameters of LogGabors on the filtering:\n",
      "filter_explore(param_name='theta', param_range=np.linspace(0, np.pi, 6, endpoint=False))"
     ],
     "language": "python",
     "metadata": {},
     "outputs": []
    },
    {
     "cell_type": "code",
     "collapsed": false,
     "input": [
      "filter_explore(param_name='B_theta', param_range=np.pi/np.linspace(4, 14, 6))"
     ],
     "language": "python",
     "metadata": {},
     "outputs": []
    },
    {
     "cell_type": "code",
     "collapsed": false,
     "input": [
      "print lg.n_x / v_sf_0\n",
      "filter_explore(param_name='sf_0', param_range=v_sf_0)"
     ],
     "language": "python",
     "metadata": {},
     "outputs": []
    },
    {
     "cell_type": "code",
     "collapsed": false,
     "input": [
      "filter_explore(param_name='B_sf', param_range=np.logspace(-1, 1, 5)*pe.B_sf)"
     ],
     "language": "python",
     "metadata": {},
     "outputs": []
    },
    {
     "cell_type": "code",
     "collapsed": true,
     "input": [
      "#! TODO: show a tiling of Fourier space with one particular choice of log gabors\n",
      "\n",
      "#n_levels = 6\n",
      "##! zooming on some intersing part of the scale space\n",
      "#for sf_0_ in lg.n_x / 2. / np.logspace(n_levels-3, n_levels-1, n_levels, base=2):\n",
      "#    print 'sf_0 ' , sf_0_\n",
      "#    FT_lg = lg.loggabor(0, 0, sf_0=sf_0_, B_sf=pe.B_sf, theta=0., B_theta=B_theta)\n",
      "#    im_ = im.FTfilter(white, FT_lg)\n",
      "#    im_ = im.normalize(im_)\n",
      "#    pylab.imshow(im_, **opts)\n",
      "#    pylab.show()"
     ],
     "language": "python",
     "metadata": {},
     "outputs": []
    },
    {
     "cell_type": "code",
     "collapsed": false,
     "input": [
      "import time, sys\n",
      "from IPython.display import display, clear_output\n",
      "for i in range(10):\n",
      "    time.sleep(0.25)\n",
      "    clear_output()\n",
      "    print(i)\n",
      "    sys.stdout.flush()"
     ],
     "language": "python",
     "metadata": {},
     "outputs": []
    },
    {
     "cell_type": "code",
     "collapsed": false,
     "input": [
      "%matplotlib inline\n",
      "import numpy as np\n",
      "import matplotlib.pyplot as plt\n",
      "x = np.linspace(0, 5, 200)\n",
      "f, ax = plt.subplots()\n",
      "ax.hold('off')\n",
      "for n in np.linspace(0, 2*np.pi, 100):\n",
      "    ax.set_title(\"Sinus function\")\n",
      "    ax.plot(x, np.sin(6*x + n))\n",
      "    clear_output()\n",
      "    display(f)\n",
      "    ax.clear()\n",
      "\n",
      "# close the figure at the end, so we don't get a duplicate\n",
      "# of the last plot\n",
      "plt.close()"
     ],
     "language": "python",
     "metadata": {},
     "outputs": []
    },
    {
     "cell_type": "code",
     "collapsed": false,
     "input": [],
     "language": "python",
     "metadata": {},
     "outputs": []
    }
   ],
   "metadata": {}
  }
 ]
}